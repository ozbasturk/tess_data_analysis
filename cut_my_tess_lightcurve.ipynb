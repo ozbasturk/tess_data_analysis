{
 "cells": [
  {
   "cell_type": "markdown",
   "metadata": {},
   "source": [
    "# Cut My TESS Light Curve\n",
    "\n",
    "Now that we have the TESS light curve for an entire sector, we need to cut it to individual pieces for futher analysis such as detrending them for further problems in AIJ and modelling them in EXOFAST like we have done before.\n",
    "\n",
    "First, we need to know the reference elements ($T_0$: a reference mid-transit time, $P_{\\rm orb}$: a reference orbital period) to find where the transits are in our data. A very good approximations for these reference elements based on the TESS data you are working are provided in both $dvs$ and $dvm$ files that you should have downloaded together with your TESS data. (Those pdf files in the same directory of your $FITS$ files). In those files, a mid-transit time (in TESS BJD-TDB, which is 2457000. less than the real BJD-TDB) and an orbital period are actually provided. Let's look at such a file below for our sample case HAT-P-36 b. The required reference elements are in the red box!\n",
    "\n",
    "<br><br><br>\n",
    "\n",
    "<center>\n",
    "    <img src=\"hatp36_sample_dvs.png\">\n",
    "</center>\n",
    "\n",
    "<br>\n",
    "\n",
    "Now let's write these first in our code."
   ]
  },
  {
   "cell_type": "code",
   "execution_count": null,
   "metadata": {},
   "outputs": [],
   "source": [
    "Porb = 1.32735 # days\n",
    "T0 = 1899.4769 # BTJD\n",
    "# we should add 2457000. to this\n",
    "T0 += 2457000."
   ]
  },
  {
   "cell_type": "markdown",
   "metadata": {},
   "source": [
    "If you can't find these or you don't have $dvs$ file for some reason (you should), you can take these values from the literature or simply from the [Exoplanet Transit Database](http://var2.astro.cz/ETD/). But please beware that these values you have taken from elsewhere might be outdated and the uncertainty on them may cause significant shifts in the predictions that you will make based on them!\n",
    "\n",
    "Now let's open our $dvt$ file we recorded and see our light curve:"
   ]
  },
  {
   "cell_type": "code",
   "execution_count": null,
   "metadata": {},
   "outputs": [],
   "source": [
    "import pandas as pd\n",
    "from matplotlib import pyplot as plt\n",
    "%matplotlib inline\n",
    "lcfull = pd.read_csv(\"HAT-P-36_TESS_DVT_lc.dat\", delimiter=\" \")\n",
    "plt.errorbar(lcfull['time'],lcfull['flux'],lcfull['flux_err'])\n",
    "plt.show()"
   ]
  },
  {
   "cell_type": "markdown",
   "metadata": {},
   "source": [
    "Now we want to look at individual transits. For this we should compute a parameter called the epoch of observation as well call it in astronomy, which has a trivial formulaç It actually give you how many orbital periods that your planet covered, the integer part of which gives you the number of orbital periods and the decimal part gives you the fraction of how many periods have been taken at any given time after the reference mid-transit time ($T_0$).\n",
    "\n",
    "$$ E = \\frac{(T - T_0)}{P_{\\rm orb}} $$\n",
    "\n",
    "$T$ being the time that you would like to know the corresponding epoch. The calculation is simple in python."
   ]
  },
  {
   "cell_type": "code",
   "execution_count": null,
   "metadata": {},
   "outputs": [],
   "source": [
    "lcfull['epoch'] = (lcfull['time'] - T0) / Porb"
   ]
  },
  {
   "cell_type": "code",
   "execution_count": null,
   "metadata": {},
   "outputs": [],
   "source": [
    "lcfull['epoch']"
   ]
  },
  {
   "cell_type": "markdown",
   "metadata": {},
   "source": [
    "Obviously, the first transit is around 1.00, and the last transit is around 20.0 in our sample. So the integer part of the epoch tells us to which orbital cycle each point in time on our light curve corresponds to. However, we would not like to take an entire orbital cycle but rather an individual transit. The decimal part will be the key in determination of the data points we should cut. At this point, the transit duration comes into play. We will decide how many hours of the observation we should cut from the entire light curve to form an individual transit light curve based on this value too. \n",
    "\n",
    "We can actually calculate this value based on the information in the $dvs$ file we have taken the reference elements from. Since this relatively simple formula, which you see below, is based on transit geometry, orbital motion of the planet and relative sizes of the host star and the planet, it will be provided without further explanation for the sake of simplicity. You can find detailed information not only about this quantity but also about transit modelling in [Selcuk Yalcinkaya's seminar work](http://ozgur.astrotux.org/tezler/selcuk_yalcinkaya/seminer/selcuk_yalcinkaya_seminer_metni_final.pdf) he completed during his master's.\n",
    "\n",
    "$$ T_{full} = \\frac{P}{\\pi} sin^{-1} (\\frac{R_{\\star}}{a} \\sqrt{(1 + \\frac{R_p}{R_{\\star}})^2 - (\\frac{a}{R_{\\star}} cos~i)^2}) $$\n",
    "\n",
    "We already know the orbital period ($P_{\\rm orb}$), what we need to know to calculate this full transit duration (aka $T_{14}$ because it is the time between the first and fourth contacts of the apparent disks of the planet and the host star). Other parameters we need to know are the <b>stellar radius scaled to the semi-major axis </b> ($\\frac{a}{R_{\\star}}$), the radius ratio ($\\frac{R_p}{R_{\\star}}$), and the <b>inclination of the orbit</b> with respect to the observer's line of sight ($i$). In the $dvs$ file the first two parameters are provided (the fourth and the third row under DV Fit Results after $T_0$, $P_{\\rm orb}$), this final parameter is not given but you can also calculate its value based on simple trigonometry.\n",
    "\n",
    "$$ cos~i = b \\frac{R_{\\star}}{a} $$\n",
    "\n",
    "<b>The impact parameter ($b$)</b> is also provided in the $dvs$ file. It tells you where the transit chord passes from. If it is 0, then the planet is passing through the apparent disk center of the host star, if it is 1, then it just grazes the apparent stellar disk.\n",
    "\n",
    "Let's write these formulae in the Python language..."
   ]
  },
  {
   "cell_type": "code",
   "execution_count": null,
   "metadata": {},
   "outputs": [],
   "source": [
    "# From dvs.pdf file\n",
    "from math import asin,pi,sqrt\n",
    "b = 0.02\n",
    "a_Rs = 5.14\n",
    "Rp_Rs = 0.1220\n",
    "# Formulae to derive the full transit duration\n",
    "cosi = b*(1 / a_Rs)\n",
    "T_full = Porb / pi * asin((1 / a_Rs) * sqrt((1 + Rp_Rs)**2 - (a_Rs * cosi)**2))\n",
    "print(\"Full transit duration is {:.2f} minutes\".format(T_full*1440))"
   ]
  },
  {
   "cell_type": "markdown",
   "metadata": {},
   "source": [
    "Obviously, 1440 appearing at the end is the number of minutes in a day because while $T_{\\rm full}$ is in days, the conventional unit for the full transit duration is in minutes so that you can compare your results with that from any transiting exoplanet catalogue such as [ETD](http://var2.astro.cz/ETD/) or [NASA Exoplanet Archive](https://exoplanetarchive.ipac.caltech.edu/cgi-bin/TblView/nph-tblView?app=ExoTbls&config=PS) for your planet.\n",
    "\n",
    "We need to convert this value to the fraction of an orbital period, so that we know how much of a cycle is covered by the transit. Then we are going to take 1.5 full transit durations before and after the transit center so that our individual light curves will cover 3 full transit transit durations, 1 of which is for the transit and 1 for each of the out-of-transit level. Considering the uncertainties on measurements, this will be a safe bet."
   ]
  },
  {
   "cell_type": "code",
   "execution_count": null,
   "metadata": {},
   "outputs": [],
   "source": [
    "# T14 as a fraction of an orbital period\n",
    "T_full_frac = T_full / Porb\n",
    "print(\"Full transit duration covers {:.4f} of an entire orbit\".format(T_full_frac))"
   ]
  },
  {
   "cell_type": "markdown",
   "metadata": {},
   "source": [
    "## Cutting The Individual Transits\n",
    "\n",
    "Now that we are done with the calculations, we are going to cut the individual transits which will cover 3 full transit durations and save them to different files with the following code:"
   ]
  },
  {
   "cell_type": "code",
   "execution_count": null,
   "metadata": {},
   "outputs": [],
   "source": [
    "for i,Ee in enumerate(lcfull['epoch']):\n",
    "    Ee += 1.5*T_full_frac\n",
    "    E = int(Ee)\n",
    "    if (Ee <= (E + 3*T_full_frac)):\n",
    "        fname = \"tess_lc_{:d}\".format(E)\n",
    "        file2wr = open(fname,\"a\")\n",
    "        str2wr = \"{:.6f}\\t{:.8f}\\t{:.8f}\\n\".format(lcfull['time'][i],lcfull['flux'][i],lcfull['flux_err'][i])\n",
    "        file2wr.write(str2wr)"
   ]
  },
  {
   "cell_type": "markdown",
   "metadata": {},
   "source": [
    "## Visual Inspection of the Individual Transits\n",
    "\n",
    "Now let's look at each light curve and make sure it covers the transit as we like it. Some of the transits might not be present or full due to gaps in the data. We should note and ignore these files, and then delete them to prevent future confusion."
   ]
  },
  {
   "cell_type": "code",
   "execution_count": null,
   "metadata": {},
   "outputs": [],
   "source": [
    "import glob\n",
    "from matplotlib import pyplot as plt\n",
    "fnames = glob.glob(\"./tess_lc_*\", recursive=False)\n",
    "for i,fn in enumerate(fnames):\n",
    "    plt.figure(i+1)\n",
    "    lc = pd.read_csv(fn, delimiter=\"\\t\",header=None)\n",
    "    print(\"Light Curve: \", fn)\n",
    "    plt.errorbar(lc[0],lc[1],lc[2])\n",
    "    plt.show()\n",
    "    lc.to_csv(fn, sep=\"\\t\",header=[\"BJD-TDB\",\"flux\",\"flux_err\"])"
   ]
  },
  {
   "cell_type": "markdown",
   "metadata": {},
   "source": [
    "You can now analyze your light curves in AIJ, detrend them there if you'd like and model them in Exofast"
   ]
  }
 ],
 "metadata": {
  "kernelspec": {
   "display_name": "Python 3",
   "language": "python",
   "name": "python3"
  },
  "language_info": {
   "codemirror_mode": {
    "name": "ipython",
    "version": 3
   },
   "file_extension": ".py",
   "mimetype": "text/x-python",
   "name": "python",
   "nbconvert_exporter": "python",
   "pygments_lexer": "ipython3",
   "version": "3.6.9"
  }
 },
 "nbformat": 4,
 "nbformat_minor": 4
}
